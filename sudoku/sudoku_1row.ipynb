{
 "cells": [
  {
   "cell_type": "code",
   "execution_count": null,
   "metadata": {},
   "outputs": [],
   "source": [
    "#initialization\n",
    "import matplotlib.pyplot as plt\n",
    "import numpy as np\n",
    "\n",
    "# importing Qiskit\n",
    "import qiskit\n",
    "from qiskit import IBMQ, Aer, assemble, transpile\n",
    "from qiskit import QuantumCircuit, ClassicalRegister, QuantumRegister\n",
    "from qiskit import *\n",
    "\n",
    "from qiskit.providers.ibmq import least_busy\n",
    "IBMQ.save_account('9ff1c619f266188a92c5a0444fed8fd525e7889a3e4aee6f0d75e7d94c71ba57dae5e0a3258a28365e8645e1e4bf9c8983d34cfec777358a2c7fa08ee5b6a48b', overwrite=True)\n",
    "\n",
    "# import basic plot tools\n",
    "from qiskit.visualization import plot_histogram\n",
    "\n",
    "# Run our circuit on the least busy backend. Monitor the execution of the job in the queue\n",
    "from qiskit.tools.monitor import job_monitor\n",
    "\n",
    "from qiskit.providers.aer import AerSimulator\n",
    "import random\n",
    "import time"
   ]
  },
  {
   "cell_type": "code",
   "execution_count": null,
   "metadata": {},
   "outputs": [],
   "source": [
    "def condition_1(qc, a, b, c, d, e, f, output):\n",
    "    qc.ccx(a, d, output)\n",
    "    qc.ccx(a, f, output)\n",
    "    qc.ccx(b, c, output)\n",
    "    qc.ccx(b, e, output)\n",
    "    qc.ccx(c, f, output)\n",
    "    qc.ccx(d, e, output)"
   ]
  },
  {
   "cell_type": "code",
   "execution_count": null,
   "metadata": {},
   "outputs": [],
   "source": [
    "def condition_2(qc, a, b, c, d, e, f, output):\n",
    "    qc.ccx(a, b, output)    qc.ccx(c, d, output)\n",
    "    qc.ccx(e, f, output)\n",
    "    qc.x(output)"
   ]
  },
  {
   "cell_type": "code",
   "execution_count": null,
   "metadata": {},
   "outputs": [],
   "source": [
    "condition = [0,1,2,3,4,5]"
   ]
  },
  {
   "cell_type": "code",
   "execution_count": null,
   "metadata": {},
   "outputs": [],
   "source": [
    "#trial:\n",
    "in_qubits = QuantumRegister(6, name = 'inputs')\n",
    "out_qubits = QuantumRegister(2, name = 'outputs')\n",
    "final_qubit = QuantumRegister(1, name = 'f')\n",
    "qc = QuantumCircuit(in_qubits, out_qubits, final_qubit)\n",
    "condition_1(qc, in_qubits[0], in_qubits[1],  in_qubits[2],  in_qubits[3],  in_qubits[4],  in_qubits[5], out_qubits[0])\n",
    "condition_2(qc, in_qubits[0], in_qubits[1],  in_qubits[2],  in_qubits[3],  in_qubits[4],  in_qubits[5], out_qubits[1])\n",
    "\n",
    "qc.mct(out_qubits, final_qubit)\n",
    "\n",
    "condition_2(qc, in_qubits[0], in_qubits[1],  in_qubits[2],  in_qubits[3],  in_qubits[4],  in_qubits[5], out_qubits[1])\n",
    "condition_1(qc, in_qubits[0], in_qubits[1],  in_qubits[2],  in_qubits[3],  in_qubits[4],  in_qubits[5], out_qubits[0])\n",
    "\n",
    "qc.draw()"
   ]
  },
  {
   "cell_type": "code",
   "execution_count": null,
   "metadata": {},
   "outputs": [],
   "source": [
    "def diffuser(nqubits):\n",
    "    qc = QuantumCircuit(nqubits)\n",
    "    # Apply transformation |s> -> |00..0> (H-gates)\n",
    "    for qubit in range(nqubits):\n",
    "        qc.h(qubit)\n",
    "    # Apply transformation |00..0> -> |11..1> (X-gates)\n",
    "    for qubit in range(nqubits):\n",
    "        qc.x(qubit)\n",
    "    # Do multi-controlled-Z gate\n",
    "    qc.h(nqubits-1)\n",
    "    qc.mct(list(range(nqubits-1)), nqubits-1)  # multi-controlled-toffoli\n",
    "    qc.h(nqubits-1)\n",
    "    # Apply transformation |11..1> -> |00..0>\n",
    "    for qubit in range(nqubits):\n",
    "        qc.x(qubit)\n",
    "    # Apply transformation |00..0> -> |s>\n",
    "    for qubit in range(nqubits):\n",
    "        qc.h(qubit)\n",
    "    # We will return the diffuser as a gate\n",
    "    U_s = qc.to_gate()\n",
    "    U_s.name = \"U$_s$\"\n",
    "    return U_s"
   ]
  },
  {
   "cell_type": "code",
   "execution_count": 49,
   "metadata": {},
   "outputs": [
    {
     "data": {
      "text/html": [
       "<pre style=\"word-wrap: normal;white-space: pre;background: #fff0;line-height: 1.1;font-family: &quot;Courier New&quot;,Courier,monospace\">                                                                           »\n",
       "inputs_0: ──■────■───────────────────■─────────────────────────────■───────»\n",
       "            │    │                   │                             │       »\n",
       "inputs_1: ──┼────┼────■────■─────────■─────────────────────────────■───────»\n",
       "            │    │    │    │         │                             │       »\n",
       "inputs_2: ──┼────┼────■────┼────■────┼─────────■───────────────────┼────■──»\n",
       "            │    │    │    │    │    │         │                   │    │  »\n",
       "inputs_3: ──■────┼────┼────┼────┼────┼────■────■───────────────────┼────■──»\n",
       "            │    │    │    │    │    │    │    │                   │    │  »\n",
       "inputs_4: ──┼────┼────┼────■────┼────┼────■────┼────■──────────────┼────┼──»\n",
       "            │    │    │    │    │    │    │    │    │              │    │  »\n",
       "inputs_5: ──┼────■────┼────┼────■────┼────┼────┼────■──────────────┼────┼──»\n",
       "          ┌─┴─┐┌─┴─┐┌─┴─┐┌─┴─┐┌─┴─┐  │  ┌─┴─┐  │    │              │    │  »\n",
       "   out_0: ┤ X ├┤ X ├┤ X ├┤ X ├┤ X ├──┼──┤ X ├──┼────┼─────────■────┼────┼──»\n",
       "          └───┘└───┘└───┘└───┘└───┘┌─┴─┐└───┘┌─┴─┐┌─┴─┐┌───┐  │  ┌─┴─┐┌─┴─┐»\n",
       "   out_1: ─────────────────────────┤ X ├─────┤ X ├┤ X ├┤ X ├──■──┤ X ├┤ X ├»\n",
       "                                   └───┘     └───┘└───┘└───┘┌─┴─┐└───┘└───┘»\n",
       "   final: ──────────────────────────────────────────────────┤ X ├──────────»\n",
       "                                                            └───┘          »\n",
       " cbits: 6/═════════════════════════════════════════════════════════════════»\n",
       "                                                                           »\n",
       "«                                             \n",
       "«inputs_0: ───────■────■──────────────────────\n",
       "«                 │    │                      \n",
       "«inputs_1: ───────┼────┼────■────■────────────\n",
       "«                 │    │    │    │            \n",
       "«inputs_2: ───────┼────┼────■────┼────■───────\n",
       "«                 │    │    │    │    │       \n",
       "«inputs_3: ───────■────┼────┼────┼────┼────■──\n",
       "«                 │    │    │    │    │    │  \n",
       "«inputs_4: ──■────┼────┼────┼────■────┼────■──\n",
       "«            │    │    │    │    │    │    │  \n",
       "«inputs_5: ──■────┼────■────┼────┼────■────┼──\n",
       "«            │  ┌─┴─┐┌─┴─┐┌─┴─┐┌─┴─┐┌─┴─┐┌─┴─┐\n",
       "«   out_0: ──┼──┤ X ├┤ X ├┤ X ├┤ X ├┤ X ├┤ X ├\n",
       "«          ┌─┴─┐├───┤└───┘└───┘└───┘└───┘└───┘\n",
       "«   out_1: ┤ X ├┤ X ├─────────────────────────\n",
       "«          └───┘└───┘                         \n",
       "«   final: ───────────────────────────────────\n",
       "«                                             \n",
       "« cbits: 6/═══════════════════════════════════\n",
       "«                                             </pre>"
      ],
      "text/plain": [
       "                                                                           »\n",
       "inputs_0: ──■────■───────────────────■─────────────────────────────■───────»\n",
       "            │    │                   │                             │       »\n",
       "inputs_1: ──┼────┼────■────■─────────■─────────────────────────────■───────»\n",
       "            │    │    │    │         │                             │       »\n",
       "inputs_2: ──┼────┼────■────┼────■────┼─────────■───────────────────┼────■──»\n",
       "            │    │    │    │    │    │         │                   │    │  »\n",
       "inputs_3: ──■────┼────┼────┼────┼────┼────■────■───────────────────┼────■──»\n",
       "            │    │    │    │    │    │    │    │                   │    │  »\n",
       "inputs_4: ──┼────┼────┼────■────┼────┼────■────┼────■──────────────┼────┼──»\n",
       "            │    │    │    │    │    │    │    │    │              │    │  »\n",
       "inputs_5: ──┼────■────┼────┼────■────┼────┼────┼────■──────────────┼────┼──»\n",
       "          ┌─┴─┐┌─┴─┐┌─┴─┐┌─┴─┐┌─┴─┐  │  ┌─┴─┐  │    │              │    │  »\n",
       "   out_0: ┤ X ├┤ X ├┤ X ├┤ X ├┤ X ├──┼──┤ X ├──┼────┼─────────■────┼────┼──»\n",
       "          └───┘└───┘└───┘└───┘└───┘┌─┴─┐└───┘┌─┴─┐┌─┴─┐┌───┐  │  ┌─┴─┐┌─┴─┐»\n",
       "   out_1: ─────────────────────────┤ X ├─────┤ X ├┤ X ├┤ X ├──■──┤ X ├┤ X ├»\n",
       "                                   └───┘     └───┘└───┘└───┘┌─┴─┐└───┘└───┘»\n",
       "   final: ──────────────────────────────────────────────────┤ X ├──────────»\n",
       "                                                            └───┘          »\n",
       " cbits: 6/═════════════════════════════════════════════════════════════════»\n",
       "                                                                           »\n",
       "«                                             \n",
       "«inputs_0: ───────■────■──────────────────────\n",
       "«                 │    │                      \n",
       "«inputs_1: ───────┼────┼────■────■────────────\n",
       "«                 │    │    │    │            \n",
       "«inputs_2: ───────┼────┼────■────┼────■───────\n",
       "«                 │    │    │    │    │       \n",
       "«inputs_3: ───────■────┼────┼────┼────┼────■──\n",
       "«                 │    │    │    │    │    │  \n",
       "«inputs_4: ──■────┼────┼────┼────■────┼────■──\n",
       "«            │    │    │    │    │    │    │  \n",
       "«inputs_5: ──■────┼────■────┼────┼────■────┼──\n",
       "«            │  ┌─┴─┐┌─┴─┐┌─┴─┐┌─┴─┐┌─┴─┐┌─┴─┐\n",
       "«   out_0: ──┼──┤ X ├┤ X ├┤ X ├┤ X ├┤ X ├┤ X ├\n",
       "«          ┌─┴─┐├───┤└───┘└───┘└───┘└───┘└───┘\n",
       "«   out_1: ┤ X ├┤ X ├─────────────────────────\n",
       "«          └───┘└───┘                         \n",
       "«   final: ───────────────────────────────────\n",
       "«                                             \n",
       "« cbits: 6/═══════════════════════════════════\n",
       "«                                             "
      ]
     },
     "execution_count": 49,
     "metadata": {},
     "output_type": "execute_result"
    }
   ],
   "source": [
    "#full algorithm\n",
    "in_qubits = QuantumRegister(6, name='inputs')\n",
    "out_qubits = QuantumRegister(2, name ='out')\n",
    "final_qubit = QuantumRegister(1, name = 'final')\n",
    "cbits = ClassicalRegister(6, name='cbits')\n",
    "qc = QuantumCircuit(in_qubits, out_qubits, final_qubit, cbits)\n",
    "\n",
    "def sukoku_oracle(qc, in_qubits, out_qubits, final_qubit):\n",
    "    condition_1(qc, in_qubits[0], in_qubits[1],  in_qubits[2],  in_qubits[3],  in_qubits[4],  in_qubits[5], out_qubits[0])\n",
    "    condition_2(qc, in_qubits[0], in_qubits[1],  in_qubits[2],  in_qubits[3],  in_qubits[4],  in_qubits[5], out_qubits[1])\n",
    "\n",
    "    qc.mct(out_qubits, final_qubit)\n",
    "\n",
    "    condition_2(qc, in_qubits[0], in_qubits[1],  in_qubits[2],  in_qubits[3],  in_qubits[4],  in_qubits[5], out_qubits[1])\n",
    "    condition_1(qc, in_qubits[0], in_qubits[1],  in_qubits[2],  in_qubits[3],  in_qubits[4],  in_qubits[5], out_qubits[0])\n",
    "\n",
    "sukoku_oracle(qc, in_qubits, out_qubits, final_qubit)\n",
    "qc.draw()"
   ]
  },
  {
   "cell_type": "code",
   "execution_count": 58,
   "metadata": {},
   "outputs": [
    {
     "data": {
      "text/plain": [
       "<qiskit.circuit.instructionset.InstructionSet at 0x7fa39d91d280>"
      ]
     },
     "execution_count": 58,
     "metadata": {},
     "output_type": "execute_result"
    }
   ],
   "source": [
    "#full algorithm\n",
    "in_qubits = QuantumRegister(6, name='inputs')\n",
    "out_qubits = QuantumRegister(2, name ='out')\n",
    "final_qubit = QuantumRegister(1, name = 'final')\n",
    "cbits = ClassicalRegister(6, name='cbits')\n",
    "qc = QuantumCircuit(in_qubits, out_qubits, final_qubit, cbits)\n",
    "\n",
    "qc.initialize([1, -1]/np.sqrt(2), out_qubit)\n",
    "# Initialize qubits in state |s>\n",
    "qc.h(in_qubits)\n",
    "qc.barrier()  # for visual separation\n",
    "#first iteration\n",
    "sukoku_oracle(qc, in_qubits, out_qubits, final_qubit)\n",
    "qc.barrier()\n",
    "qc.append(diffuser(6), [0,1,2,3,4,5])\n",
    "#second iteration\n",
    "sukoku_oracle(qc, in_qubits, out_qubits, final_qubit)\n",
    "qc.barrier()\n",
    "qc.append(diffuser(6), [0,1,2,3,4,5])\n",
    "\n",
    "display(qc.draw()\n",
    "qc.measure(in_qubits, cbits)"
   ]
  },
  {
   "cell_type": "code",
   "execution_count": 62,
   "metadata": {},
   "outputs": [
    {
     "data": {
      "image/png": "[encoded data removed]",
      "text/plain": [
       "<Figure size 1440x720 with 1 Axes>"
      ]
     },
     "execution_count": 62,
     "metadata": {},
     "output_type": "execute_result"
    }
   ],
   "source": [
    "# Simulate and plot results\n",
    "aer_simulator = Aer.get_backend('aer_simulator')\n",
    "transpiled_qc = transpile(qc, aer_simulator)\n",
    "qobj = assemble(transpiled_qc)\n",
    "result = aer_sim.run(qobj).result()\n",
    "plot_histogram(result.get_counts(), figsize = (20,10) )\n"
   ]
  },
  {
   "cell_type": "code",
   "execution_count": 117,
   "metadata": {},
   "outputs": [
    {
     "data": {
      "image/png": "[encoded data removed]",
      "text/plain": [
       "<Figure size 1440x720 with 1 Axes>"
      ]
     },
     "execution_count": 117,
     "metadata": {},
     "output_type": "execute_result"
    }
   ],
   "source": [
    "dictionary = result.get_counts()\n",
    "\n",
    "new_key =['012', '021', '102', '120', '201', '210']\n",
    "\n",
    "dictionary[new_key[0]] = dictionary.pop('000110')\n",
    "dictionary[new_key[1]] = dictionary.pop('001001')\n",
    "dictionary[new_key[2]] = dictionary.pop('010010')\n",
    "dictionary[new_key[3]] = dictionary.pop('011000')\n",
    "dictionary[new_key[4]] = dictionary.pop('100001')\n",
    "dictionary[new_key[5]] = dictionary.pop('100100')\n",
    "\n",
    "plot_histogram(dictionary, figsize = (20,10) )"
   ]
  },
  {
   "cell_type": "code",
   "execution_count": 85,
   "metadata": {},
   "outputs": [
    {
     "ename": "NameError",
     "evalue": "name 'dictionaty' is not defined",
     "output_type": "error",
     "traceback": [
      "\u001b[0;31m---------------------------------------------------------------------------\u001b[0m",
      "\u001b[0;31mNameError\u001b[0m                                 Traceback (most recent call last)",
      "\u001b[0;32m<ipython-input-85-8d786896fc43>\u001b[0m in \u001b[0;36m<module>\u001b[0;34m\u001b[0m\n\u001b[1;32m      2\u001b[0m \u001b[0mi\u001b[0m \u001b[0;34m=\u001b[0m \u001b[0;36m0\u001b[0m\u001b[0;34m\u001b[0m\u001b[0;34m\u001b[0m\u001b[0m\n\u001b[1;32m      3\u001b[0m \u001b[0;32mfor\u001b[0m \u001b[0mkey\u001b[0m \u001b[0;32min\u001b[0m \u001b[0mdictionary\u001b[0m\u001b[0;34m:\u001b[0m\u001b[0;34m\u001b[0m\u001b[0;34m\u001b[0m\u001b[0m\n\u001b[0;32m----> 4\u001b[0;31m     \u001b[0mdictionary\u001b[0m\u001b[0;34m[\u001b[0m\u001b[0mnew_key\u001b[0m\u001b[0;34m(\u001b[0m\u001b[0mi\u001b[0m\u001b[0;34m)\u001b[0m\u001b[0;34m]\u001b[0m \u001b[0;34m=\u001b[0m \u001b[0mdictionaty\u001b[0m\u001b[0;34m.\u001b[0m\u001b[0mpop\u001b[0m\u001b[0;34m(\u001b[0m\u001b[0mkey\u001b[0m\u001b[0;34m)\u001b[0m\u001b[0;34m\u001b[0m\u001b[0;34m\u001b[0m\u001b[0m\n\u001b[0m\u001b[1;32m      5\u001b[0m     \u001b[0mi\u001b[0m \u001b[0;34m+=\u001b[0m \u001b[0;36m1\u001b[0m\u001b[0;34m\u001b[0m\u001b[0;34m\u001b[0m\u001b[0m\n\u001b[1;32m      6\u001b[0m \u001b[0;34m\u001b[0m\u001b[0m\n",
      "\u001b[0;31mNameError\u001b[0m: name 'dictionaty' is not defined"
     ]
    }
   ],
   "source": [
    "\n",
    "\n"
   ]
  },
  {
   "cell_type": "code",
   "execution_count": null,
   "metadata": {},
   "outputs": [],
   "source": []
  }
 ],
 "metadata": {
  "kernelspec": {
   "display_name": "Python 3",
   "language": "python",
   "name": "python3"
  },
  "language_info": {
   "codemirror_mode": {
    "name": "ipython",
    "version": 3
   },
   "file_extension": ".py",
   "mimetype": "text/x-python",
   "name": "python",
   "nbconvert_exporter": "python",
   "pygments_lexer": "ipython3",
   "version": "3.8.3"
  }
 },
 "nbformat": 4,
 "nbformat_minor": 4
}
