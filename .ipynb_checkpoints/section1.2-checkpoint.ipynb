{
 "cells": [
  {
   "cell_type": "code",
   "execution_count": 16,
   "metadata": {},
   "outputs": [],
   "source": [
    "import numpy as np\n",
    "from qiskit import QuantumCircuit, transpile\n",
    "from qiskit.providers.aer import QasmSimulator\n",
    "from qiskit.visualization import plot_histogram\n",
    "from qiskit.providers.aer import Aer \n",
    "import qiskit.tools.jupyter"
   ]
  },
  {
   "cell_type": "code",
   "execution_count": 3,
   "metadata": {},
   "outputs": [
    {
     "data": {
      "application/vnd.jupyter.widget-view+json": {
       "model_id": "015b48a8b3ea48e4b185fdbe147a8f31",
       "version_major": 2,
       "version_minor": 0
      },
      "text/plain": [
       "VBox(children=(Label(value='Toggle the bits below to change the binary number.'), Label(value='Think of a numb…"
      ]
     },
     "metadata": {},
     "output_type": "display_data"
    },
    {
     "data": {
      "application/vnd.jupyter.widget-view+json": {
       "model_id": "5b45c2371a094a9380b32ad0a83dda9a",
       "version_major": 2,
       "version_minor": 0
      },
      "text/plain": [
       "HTML(value='<pre>Binary   Decimal\\n 00000 = 0</pre>')"
      ]
     },
     "metadata": {},
     "output_type": "display_data"
    }
   ],
   "source": [
    "from qiskit_textbook.widgets import binary_widget\n",
    "binary_widget(nbits=5)"
   ]
  },
  {
   "cell_type": "code",
   "execution_count": 4,
   "metadata": {},
   "outputs": [],
   "source": [
    "qc_output = QuantumCircuit(8)"
   ]
  },
  {
   "cell_type": "code",
   "execution_count": 5,
   "metadata": {},
   "outputs": [],
   "source": [
    "qc_output.measure_all()"
   ]
  },
  {
   "cell_type": "code",
   "execution_count": 6,
   "metadata": {},
   "outputs": [
    {
     "data": {
      "text/html": [
       "<pre style=\"word-wrap: normal;white-space: pre;background: #fff0;line-height: 1.1;font-family: &quot;Courier New&quot;,Courier,monospace\">           ░ ┌─┐                     \n",
       "  q_0: |0>─░─┤M├─────────────────────\n",
       "           ░ └╥┘┌─┐                  \n",
       "  q_1: |0>─░──╫─┤M├──────────────────\n",
       "           ░  ║ └╥┘┌─┐               \n",
       "  q_2: |0>─░──╫──╫─┤M├───────────────\n",
       "           ░  ║  ║ └╥┘┌─┐            \n",
       "  q_3: |0>─░──╫──╫──╫─┤M├────────────\n",
       "           ░  ║  ║  ║ └╥┘┌─┐         \n",
       "  q_4: |0>─░──╫──╫──╫──╫─┤M├─────────\n",
       "           ░  ║  ║  ║  ║ └╥┘┌─┐      \n",
       "  q_5: |0>─░──╫──╫──╫──╫──╫─┤M├──────\n",
       "           ░  ║  ║  ║  ║  ║ └╥┘┌─┐   \n",
       "  q_6: |0>─░──╫──╫──╫──╫──╫──╫─┤M├───\n",
       "           ░  ║  ║  ║  ║  ║  ║ └╥┘┌─┐\n",
       "  q_7: |0>─░──╫──╫──╫──╫──╫──╫──╫─┤M├\n",
       "           ░  ║  ║  ║  ║  ║  ║  ║ └╥┘\n",
       "meas: 0 8/════╩══╩══╩══╩══╩══╩══╩══╩═\n",
       "              0  1  2  3  4  5  6  7 </pre>"
      ],
      "text/plain": [
       "           ░ ┌─┐                     \n",
       "  q_0: |0>─░─┤M├─────────────────────\n",
       "           ░ └╥┘┌─┐                  \n",
       "  q_1: |0>─░──╫─┤M├──────────────────\n",
       "           ░  ║ └╥┘┌─┐               \n",
       "  q_2: |0>─░──╫──╫─┤M├───────────────\n",
       "           ░  ║  ║ └╥┘┌─┐            \n",
       "  q_3: |0>─░──╫──╫──╫─┤M├────────────\n",
       "           ░  ║  ║  ║ └╥┘┌─┐         \n",
       "  q_4: |0>─░──╫──╫──╫──╫─┤M├─────────\n",
       "           ░  ║  ║  ║  ║ └╥┘┌─┐      \n",
       "  q_5: |0>─░──╫──╫──╫──╫──╫─┤M├──────\n",
       "           ░  ║  ║  ║  ║  ║ └╥┘┌─┐   \n",
       "  q_6: |0>─░──╫──╫──╫──╫──╫──╫─┤M├───\n",
       "           ░  ║  ║  ║  ║  ║  ║ └╥┘┌─┐\n",
       "  q_7: |0>─░──╫──╫──╫──╫──╫──╫──╫─┤M├\n",
       "           ░  ║  ║  ║  ║  ║  ║  ║ └╥┘\n",
       "meas: 0 8/════╩══╩══╩══╩══╩══╩══╩══╩═\n",
       "              0  1  2  3  4  5  6  7 "
      ]
     },
     "execution_count": 6,
     "metadata": {},
     "output_type": "execute_result"
    }
   ],
   "source": [
    "qc_output.draw(initial_state=True)"
   ]
  },
  {
   "cell_type": "code",
   "execution_count": 7,
   "metadata": {},
   "outputs": [
    {
     "data": {
      "image/png": "[encoded data removed]",
      "text/plain": [
       "<Figure size 504x360 with 1 Axes>"
      ]
     },
     "execution_count": 7,
     "metadata": {},
     "output_type": "execute_result"
    }
   ],
   "source": [
    "sim = Aer.get_backend('aer_simulator') \n",
    "result = sim.run(qc_output).result()\n",
    "counts = result.get_counts()\n",
    "plot_histogram(counts)"
   ]
  },
  {
   "cell_type": "code",
   "execution_count": 8,
   "metadata": {},
   "outputs": [
    {
     "data": {
      "text/html": [
       "<pre style=\"word-wrap: normal;white-space: pre;background: #fff0;line-height: 1.1;font-family: &quot;Courier New&quot;,Courier,monospace\">          \n",
       "q_0: ─────\n",
       "          \n",
       "q_1: ─────\n",
       "          \n",
       "q_2: ─────\n",
       "          \n",
       "q_3: ─────\n",
       "          \n",
       "q_4: ─────\n",
       "          \n",
       "q_5: ─────\n",
       "          \n",
       "q_6: ─────\n",
       "     ┌───┐\n",
       "q_7: ┤ X ├\n",
       "     └───┘</pre>"
      ],
      "text/plain": [
       "          \n",
       "q_0: ─────\n",
       "          \n",
       "q_1: ─────\n",
       "          \n",
       "q_2: ─────\n",
       "          \n",
       "q_3: ─────\n",
       "          \n",
       "q_4: ─────\n",
       "          \n",
       "q_5: ─────\n",
       "          \n",
       "q_6: ─────\n",
       "     ┌───┐\n",
       "q_7: ┤ X ├\n",
       "     └───┘"
      ]
     },
     "execution_count": 8,
     "metadata": {},
     "output_type": "execute_result"
    }
   ],
   "source": [
    "qc_encode = QuantumCircuit(8)\n",
    "qc_encode.x(7)\n",
    "qc_encode.draw()"
   ]
  },
  {
   "cell_type": "code",
   "execution_count": 9,
   "metadata": {},
   "outputs": [
    {
     "data": {
      "text/html": [
       "<pre style=\"word-wrap: normal;white-space: pre;background: #fff0;line-height: 1.1;font-family: &quot;Courier New&quot;,Courier,monospace\">              ░ ┌─┐                     \n",
       "   q_0: ──────░─┤M├─────────────────────\n",
       "              ░ └╥┘┌─┐                  \n",
       "   q_1: ──────░──╫─┤M├──────────────────\n",
       "              ░  ║ └╥┘┌─┐               \n",
       "   q_2: ──────░──╫──╫─┤M├───────────────\n",
       "              ░  ║  ║ └╥┘┌─┐            \n",
       "   q_3: ──────░──╫──╫──╫─┤M├────────────\n",
       "              ░  ║  ║  ║ └╥┘┌─┐         \n",
       "   q_4: ──────░──╫──╫──╫──╫─┤M├─────────\n",
       "              ░  ║  ║  ║  ║ └╥┘┌─┐      \n",
       "   q_5: ──────░──╫──╫──╫──╫──╫─┤M├──────\n",
       "              ░  ║  ║  ║  ║  ║ └╥┘┌─┐   \n",
       "   q_6: ──────░──╫──╫──╫──╫──╫──╫─┤M├───\n",
       "        ┌───┐ ░  ║  ║  ║  ║  ║  ║ └╥┘┌─┐\n",
       "   q_7: ┤ X ├─░──╫──╫──╫──╫──╫──╫──╫─┤M├\n",
       "        └───┘ ░  ║  ║  ║  ║  ║  ║  ║ └╥┘\n",
       "meas: 8/═════════╩══╩══╩══╩══╩══╩══╩══╩═\n",
       "                 0  1  2  3  4  5  6  7 </pre>"
      ],
      "text/plain": [
       "              ░ ┌─┐                     \n",
       "   q_0: ──────░─┤M├─────────────────────\n",
       "              ░ └╥┘┌─┐                  \n",
       "   q_1: ──────░──╫─┤M├──────────────────\n",
       "              ░  ║ └╥┘┌─┐               \n",
       "   q_2: ──────░──╫──╫─┤M├───────────────\n",
       "              ░  ║  ║ └╥┘┌─┐            \n",
       "   q_3: ──────░──╫──╫──╫─┤M├────────────\n",
       "              ░  ║  ║  ║ └╥┘┌─┐         \n",
       "   q_4: ──────░──╫──╫──╫──╫─┤M├─────────\n",
       "              ░  ║  ║  ║  ║ └╥┘┌─┐      \n",
       "   q_5: ──────░──╫──╫──╫──╫──╫─┤M├──────\n",
       "              ░  ║  ║  ║  ║  ║ └╥┘┌─┐   \n",
       "   q_6: ──────░──╫──╫──╫──╫──╫──╫─┤M├───\n",
       "        ┌───┐ ░  ║  ║  ║  ║  ║  ║ └╥┘┌─┐\n",
       "   q_7: ┤ X ├─░──╫──╫──╫──╫──╫──╫──╫─┤M├\n",
       "        └───┘ ░  ║  ║  ║  ║  ║  ║  ║ └╥┘\n",
       "meas: 8/═════════╩══╩══╩══╩══╩══╩══╩══╩═\n",
       "                 0  1  2  3  4  5  6  7 "
      ]
     },
     "execution_count": 9,
     "metadata": {},
     "output_type": "execute_result"
    }
   ],
   "source": [
    "qc_encode.measure_all()\n",
    "qc_encode.draw()"
   ]
  },
  {
   "cell_type": "code",
   "execution_count": 10,
   "metadata": {},
   "outputs": [
    {
     "data": {
      "image/png": "[encoded data removed]",
      "text/plain": [
       "<Figure size 504x360 with 1 Axes>"
      ]
     },
     "execution_count": 10,
     "metadata": {},
     "output_type": "execute_result"
    }
   ],
   "source": [
    "sim = Aer.get_backend('aer_simulator') \n",
    "result = sim.run(qc_encode).result()\n",
    "counts = result.get_counts()\n",
    "plot_histogram(counts)"
   ]
  },
  {
   "cell_type": "code",
   "execution_count": 11,
   "metadata": {},
   "outputs": [
    {
     "data": {
      "text/html": [
       "<pre style=\"word-wrap: normal;white-space: pre;background: #fff0;line-height: 1.1;font-family: &quot;Courier New&quot;,Courier,monospace\">          \n",
       "q_0: ─────\n",
       "     ┌───┐\n",
       "q_1: ┤ X ├\n",
       "     └───┘\n",
       "q_2: ─────\n",
       "          \n",
       "q_3: ─────\n",
       "          \n",
       "q_4: ─────\n",
       "     ┌───┐\n",
       "q_5: ┤ X ├\n",
       "     └───┘\n",
       "q_6: ─────\n",
       "          \n",
       "q_7: ─────\n",
       "          </pre>"
      ],
      "text/plain": [
       "          \n",
       "q_0: ─────\n",
       "     ┌───┐\n",
       "q_1: ┤ X ├\n",
       "     └───┘\n",
       "q_2: ─────\n",
       "          \n",
       "q_3: ─────\n",
       "          \n",
       "q_4: ─────\n",
       "     ┌───┐\n",
       "q_5: ┤ X ├\n",
       "     └───┘\n",
       "q_6: ─────\n",
       "          \n",
       "q_7: ─────\n",
       "          "
      ]
     },
     "execution_count": 11,
     "metadata": {},
     "output_type": "execute_result"
    }
   ],
   "source": [
    "qc_encode = QuantumCircuit(8)\n",
    "qc_encode.x(1)\n",
    "qc_encode.x(5)\n",
    "\n",
    "qc_encode.draw()"
   ]
  },
  {
   "cell_type": "code",
   "execution_count": 12,
   "metadata": {},
   "outputs": [
    {
     "data": {
      "text/html": [
       "<pre style=\"word-wrap: normal;white-space: pre;background: #fff0;line-height: 1.1;font-family: &quot;Courier New&quot;,Courier,monospace\">          \n",
       "q_0: ──■──\n",
       "     ┌─┴─┐\n",
       "q_1: ┤ X ├\n",
       "     └───┘</pre>"
      ],
      "text/plain": [
       "          \n",
       "q_0: ──■──\n",
       "     ┌─┴─┐\n",
       "q_1: ┤ X ├\n",
       "     └───┘"
      ]
     },
     "execution_count": 12,
     "metadata": {},
     "output_type": "execute_result"
    }
   ],
   "source": [
    "qc_cnot = QuantumCircuit(2)\n",
    "qc_cnot.cx(0,1)\n",
    "qc_cnot.draw()"
   ]
  },
  {
   "cell_type": "code",
   "execution_count": 13,
   "metadata": {},
   "outputs": [
    {
     "data": {
      "text/html": [
       "<pre style=\"word-wrap: normal;white-space: pre;background: #fff0;line-height: 1.1;font-family: &quot;Courier New&quot;,Courier,monospace\">     ┌───┐┌─┐\n",
       "q_0: ┤ X ├┤M├\n",
       "     └┬─┬┘└╥┘\n",
       "q_1: ─┤M├──╫─\n",
       "      └╥┘  ║ \n",
       "c: 2/══╩═══╩═\n",
       "       1   0 </pre>"
      ],
      "text/plain": [
       "     ┌───┐┌─┐\n",
       "q_0: ┤ X ├┤M├\n",
       "     └┬─┬┘└╥┘\n",
       "q_1: ─┤M├──╫─\n",
       "      └╥┘  ║ \n",
       "c: 2/══╩═══╩═\n",
       "       1   0 "
      ]
     },
     "execution_count": 13,
     "metadata": {},
     "output_type": "execute_result"
    }
   ],
   "source": [
    "qc = QuantumCircuit(2,2)\n",
    "qc.x(0)\n",
    "qc_cnot.cx(0,1)\n",
    "qc.measure(0,0)\n",
    "qc.measure(1,1)\n",
    "qc.draw()"
   ]
  },
  {
   "cell_type": "code",
   "execution_count": 14,
   "metadata": {},
   "outputs": [
    {
     "data": {
      "text/html": [
       "<pre style=\"word-wrap: normal;white-space: pre;background: #fff0;line-height: 1.1;font-family: &quot;Courier New&quot;,Courier,monospace\">     ┌───┐ ░            ░       \n",
       "q_0: ┤ X ├─░───■────────░───────\n",
       "     ├───┤ ░   │        ░       \n",
       "q_1: ┤ X ├─░───┼────■───░───────\n",
       "     └───┘ ░ ┌─┴─┐┌─┴─┐ ░ ┌─┐   \n",
       "q_2: ──────░─┤ X ├┤ X ├─░─┤M├───\n",
       "           ░ └───┘└───┘ ░ └╥┘┌─┐\n",
       "q_3: ──────░────────────░──╫─┤M├\n",
       "           ░            ░  ║ └╥┘\n",
       "c: 2/══════════════════════╩══╩═\n",
       "                           0  1 </pre>"
      ],
      "text/plain": [
       "     ┌───┐ ░            ░       \n",
       "q_0: ┤ X ├─░───■────────░───────\n",
       "     ├───┤ ░   │        ░       \n",
       "q_1: ┤ X ├─░───┼────■───░───────\n",
       "     └───┘ ░ ┌─┴─┐┌─┴─┐ ░ ┌─┐   \n",
       "q_2: ──────░─┤ X ├┤ X ├─░─┤M├───\n",
       "           ░ └───┘└───┘ ░ └╥┘┌─┐\n",
       "q_3: ──────░────────────░──╫─┤M├\n",
       "           ░            ░  ║ └╥┘\n",
       "c: 2/══════════════════════╩══╩═\n",
       "                           0  1 "
      ]
     },
     "execution_count": 14,
     "metadata": {},
     "output_type": "execute_result"
    }
   ],
   "source": [
    "qc_ha = QuantumCircuit(4,2)\n",
    "# encode inputs in qubits 0 and 1\n",
    "qc_ha.x(0) # For a=0, remove this line. For a=1, leave it.\n",
    "qc_ha.x(1) # For b=0, remove this line. For b=1, leave it.\n",
    "qc_ha.barrier()\n",
    "# use cnots to write the XOR of the inputs on qubit 2\n",
    "qc_ha.cx(0,2)\n",
    "qc_ha.cx(1,2)\n",
    "qc_ha.barrier()\n",
    "# extract outputs\n",
    "qc_ha.measure(2,0) # extract XOR value\n",
    "qc_ha.measure(3,1)\n",
    "\n",
    "qc_ha.draw()"
   ]
  },
  {
   "cell_type": "code",
   "execution_count": 18,
   "metadata": {},
   "outputs": [
    {
     "data": {
      "text/html": [
       "<pre style=\"word-wrap: normal;white-space: pre;background: #fff0;line-height: 1.1;font-family: &quot;Courier New&quot;,Courier,monospace\">     ┌───┐ ░                 ░       \n",
       "q_0: ┤ X ├─░───■─────────■───░───────\n",
       "     ├───┤ ░   │         │   ░       \n",
       "q_1: ┤ X ├─░───┼────■────■───░───────\n",
       "     └───┘ ░ ┌─┴─┐┌─┴─┐  │   ░ ┌─┐   \n",
       "q_2: ──────░─┤ X ├┤ X ├──┼───░─┤M├───\n",
       "           ░ └───┘└───┘┌─┴─┐ ░ └╥┘┌─┐\n",
       "q_3: ──────░───────────┤ X ├─░──╫─┤M├\n",
       "           ░           └───┘ ░  ║ └╥┘\n",
       "c: 2/═══════════════════════════╩══╩═\n",
       "                                0  1 </pre>"
      ],
      "text/plain": [
       "     ┌───┐ ░                 ░       \n",
       "q_0: ┤ X ├─░───■─────────■───░───────\n",
       "     ├───┤ ░   │         │   ░       \n",
       "q_1: ┤ X ├─░───┼────■────■───░───────\n",
       "     └───┘ ░ ┌─┴─┐┌─┴─┐  │   ░ ┌─┐   \n",
       "q_2: ──────░─┤ X ├┤ X ├──┼───░─┤M├───\n",
       "           ░ └───┘└───┘┌─┴─┐ ░ └╥┘┌─┐\n",
       "q_3: ──────░───────────┤ X ├─░──╫─┤M├\n",
       "           ░           └───┘ ░  ║ └╥┘\n",
       "c: 2/═══════════════════════════╩══╩═\n",
       "                                0  1 "
      ]
     },
     "execution_count": 18,
     "metadata": {},
     "output_type": "execute_result"
    }
   ],
   "source": [
    "qc_ha = QuantumCircuit(4,2)\n",
    "# encode inputs in qubits 0 and 1\n",
    "qc_ha.x(0) # For a=0, remove the this line. For a=1, leave it.\n",
    "qc_ha.x(1) # For b=0, remove the this line. For b=1, leave it.\n",
    "qc_ha.barrier()\n",
    "# use cnots to write the XOR of the inputs on qubit 2\n",
    "qc_ha.cx(0,2)\n",
    "qc_ha.cx(1,2)\n",
    "# use ccx to write the AND of the inputs on qubit 3\n",
    "qc_ha.ccx(0,1,3)\n",
    "qc_ha.barrier()\n",
    "# extract outputs\n",
    "qc_ha.measure(2,0) # extract XOR value\n",
    "qc_ha.measure(3,1) # extract AND value\n",
    "\n",
    "qc_ha.draw()"
   ]
  },
  {
   "cell_type": "code",
   "execution_count": 19,
   "metadata": {},
   "outputs": [
    {
     "ename": "NameError",
     "evalue": "name 'assemble' is not defined",
     "output_type": "error",
     "traceback": [
      "\u001b[0;31m---------------------------------------------------------------------------\u001b[0m",
      "\u001b[0;31mNameError\u001b[0m                                 Traceback (most recent call last)",
      "\u001b[0;32m<ipython-input-19-32ebbeff2f2b>\u001b[0m in \u001b[0;36m<module>\u001b[0;34m\u001b[0m\n\u001b[0;32m----> 1\u001b[0;31m \u001b[0mqobj\u001b[0m \u001b[0;34m=\u001b[0m \u001b[0massemble\u001b[0m\u001b[0;34m(\u001b[0m\u001b[0mqc_ha\u001b[0m\u001b[0;34m)\u001b[0m\u001b[0;34m\u001b[0m\u001b[0;34m\u001b[0m\u001b[0m\n\u001b[0m\u001b[1;32m      2\u001b[0m \u001b[0mcounts\u001b[0m \u001b[0;34m=\u001b[0m \u001b[0msim\u001b[0m\u001b[0;34m.\u001b[0m\u001b[0mrun\u001b[0m\u001b[0;34m(\u001b[0m\u001b[0mqobj\u001b[0m\u001b[0;34m)\u001b[0m\u001b[0;34m.\u001b[0m\u001b[0mresult\u001b[0m\u001b[0;34m(\u001b[0m\u001b[0;34m)\u001b[0m\u001b[0;34m.\u001b[0m\u001b[0mget_counts\u001b[0m\u001b[0;34m(\u001b[0m\u001b[0;34m)\u001b[0m\u001b[0;34m\u001b[0m\u001b[0;34m\u001b[0m\u001b[0m\n\u001b[1;32m      3\u001b[0m \u001b[0mplot_histogram\u001b[0m\u001b[0;34m(\u001b[0m\u001b[0mcounts\u001b[0m\u001b[0;34m)\u001b[0m\u001b[0;34m\u001b[0m\u001b[0;34m\u001b[0m\u001b[0m\n",
      "\u001b[0;31mNameError\u001b[0m: name 'assemble' is not defined"
     ]
    }
   ],
   "source": [
    "qobj = assemble(qc_ha)\n",
    "counts = sim.run(qobj).result().get_counts()\n",
    "plot_histogram(counts)"
   ]
  },
  {
   "cell_type": "code",
   "execution_count": null,
   "metadata": {},
   "outputs": [],
   "source": []
  }
 ],
 "metadata": {
  "kernelspec": {
   "display_name": "Python 3",
   "language": "python",
   "name": "python3"
  },
  "language_info": {
   "codemirror_mode": {
    "name": "ipython",
    "version": 3
   },
   "file_extension": ".py",
   "mimetype": "text/x-python",
   "name": "python",
   "nbconvert_exporter": "python",
   "pygments_lexer": "ipython3",
   "version": "3.8.3"
  }
 },
 "nbformat": 4,
 "nbformat_minor": 4
}
